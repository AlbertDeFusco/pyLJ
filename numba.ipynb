{
 "cells": [
  {
   "cell_type": "markdown",
   "metadata": {},
   "source": [
    "## traditional"
   ]
  },
  {
   "cell_type": "code",
   "execution_count": 1,
   "metadata": {},
   "outputs": [],
   "source": [
    "import numpy as np\n",
    "\n",
    "def make_cluster(natoms, radius=20, seed=1981):\n",
    "    np.random.seed(seed)\n",
    "    arr = np.random.normal(0, radius, size=(natoms,3))-0.5\n",
    "    return arr"
   ]
  },
  {
   "cell_type": "code",
   "execution_count": 2,
   "metadata": {},
   "outputs": [],
   "source": [
    "class lj_pure(object):\n",
    "    \n",
    "    @classmethod\n",
    "    def lj(cls, r):\n",
    "        sr6 = (1./r)**6\n",
    "        pot = 4.*(sr6*sr6 - sr6)\n",
    "        return pot\n",
    "\n",
    "\n",
    "    @classmethod\n",
    "    def distance(cls, atom1, atom2):\n",
    "        dx = atom2[0] - atom1[0]\n",
    "        dy = atom2[1] - atom1[1]\n",
    "        dz = atom2[2] - atom1[2]\n",
    "\n",
    "        r = (dx*dx + dy*dy + dz*dz)**0.5\n",
    "        return r\n",
    "\n",
    "\n",
    "    @classmethod\n",
    "    def potential(cls, cluster):\n",
    "        energy = 0.0\n",
    "        for i in range(len(cluster)-1):\n",
    "            for j in range(i+1,len(cluster)):\n",
    "                r = cls.distance(cluster[i],cluster[j])\n",
    "                e = cls.lj(r)\n",
    "                energy += e\n",
    "        return energy"
   ]
  },
  {
   "cell_type": "code",
   "execution_count": 3,
   "metadata": {},
   "outputs": [],
   "source": [
    "import numpy as np\n",
    "class lj_numpy(object):\n",
    "    \n",
    "    @classmethod\n",
    "    def lj(cls, r):\n",
    "        sr6 = (1./r)**6\n",
    "        pot = 4.*(sr6*sr6 - sr6)\n",
    "        return pot\n",
    "    \n",
    "    \n",
    "    @classmethod\n",
    "    def distances(cls, cluster):\n",
    "        diff = cluster[:, np.newaxis, :] - cluster[np.newaxis, :, :]\n",
    "        mat = np.sqrt((diff*diff).sum(-1))\n",
    "        return mat\n",
    "\n",
    "    \n",
    "    @classmethod\n",
    "    def potential(cls, cluster):\n",
    "        d = cls.distances(cluster)\n",
    "        pot = cls.lj(d)\n",
    "        energy = np.nansum(pot) / 2\n",
    "        return energy"
   ]
  },
  {
   "cell_type": "code",
   "execution_count": 4,
   "metadata": {},
   "outputs": [],
   "source": [
    "cluster = make_cluster(int(2e3), radius=100)"
   ]
  },
  {
   "cell_type": "code",
   "execution_count": 5,
   "metadata": {},
   "outputs": [
    {
     "name": "stdout",
     "output_type": "stream",
     "text": [
      "4.22 s ± 52.9 ms per loop (mean ± std. dev. of 7 runs, 1 loop each)\n"
     ]
    }
   ],
   "source": [
    "%timeit lj_pure.potential(cluster)"
   ]
  },
  {
   "cell_type": "code",
   "execution_count": 6,
   "metadata": {},
   "outputs": [
    {
     "name": "stderr",
     "output_type": "stream",
     "text": [
      "/Users/albert/Applications/miniconda3/envs/intel/lib/python3.6/site-packages/ipykernel/__main__.py:6: RuntimeWarning: divide by zero encountered in true_divide\n",
      "/Users/albert/Applications/miniconda3/envs/intel/lib/python3.6/site-packages/ipykernel/__main__.py:7: RuntimeWarning: invalid value encountered in subtract\n"
     ]
    },
    {
     "name": "stdout",
     "output_type": "stream",
     "text": [
      "361 ms ± 2.41 ms per loop (mean ± std. dev. of 7 runs, 1 loop each)\n"
     ]
    }
   ],
   "source": [
    "%timeit lj_numpy.potential(cluster)"
   ]
  },
  {
   "cell_type": "markdown",
   "metadata": {},
   "source": [
    "## numba"
   ]
  },
  {
   "cell_type": "code",
   "execution_count": 7,
   "metadata": {},
   "outputs": [],
   "source": [
    "import numba\n",
    "\n",
    "@numba.vectorize(['float64(float64)'], nopython=True, target='parallel')\n",
    "def ulj(r):\n",
    "    sr6 = (1./r)**6\n",
    "    pot = 4.*(sr6*sr6 - sr6)\n",
    "    return pot\n",
    "\n",
    "@numba.jit(nopython=True)\n",
    "def dist(atom1, atom2):\n",
    "    dx = atom2[0] - atom1[0]\n",
    "    dy = atom2[1] - atom1[1]\n",
    "    dz = atom2[2] - atom1[2]\n",
    "\n",
    "    r = np.sqrt(dx*dx + dy*dy + dz*dz)\n",
    "    return r\n",
    "\n",
    "\n",
    "@numba.guvectorize(['(float64[:,:], float64[:,:])'], '(n,m)->(n,n)', nopython=True, target='parallel')\n",
    "def distance_matrix(cluster, dmat):\n",
    "    for i in range(len(cluster)-1):\n",
    "        dmat[i,i] = 0.0\n",
    "        for j in range(i+1,len(cluster)):\n",
    "            dmat[j,j] = 0.0\n",
    "            r = dist(cluster[i],cluster[j])\n",
    "            dmat[i,j] = r\n",
    "            dmat[j,i] = r\n",
    "\n",
    "def upotential(cluster):\n",
    "    n = cluster.shape[0]\n",
    "    dmat = np.empty(shape=(n,n), dtype=cluster.dtype)\n",
    "    distance_matrix(cluster, dmat)\n",
    "    \n",
    "    pot = ulj(dmat)\n",
    "    energy = np.nansum(pot) / 2.\n",
    "    \n",
    "    return energy"
   ]
  },
  {
   "cell_type": "code",
   "execution_count": 8,
   "metadata": {},
   "outputs": [
    {
     "name": "stderr",
     "output_type": "stream",
     "text": [
      "/Users/albert/Applications/miniconda3/envs/intel/lib/python3.6/site-packages/ipykernel/__main__.py:6: RuntimeWarning: divide by zero encountered in true_divide\n",
      "/Users/albert/Applications/miniconda3/envs/intel/lib/python3.6/site-packages/ipykernel/__main__.py:7: RuntimeWarning: invalid value encountered in subtract\n"
     ]
    },
    {
     "data": {
      "text/plain": [
       "-1.3431786584750052"
      ]
     },
     "execution_count": 8,
     "metadata": {},
     "output_type": "execute_result"
    }
   ],
   "source": [
    "lj_numpy.potential(cluster)"
   ]
  },
  {
   "cell_type": "code",
   "execution_count": 9,
   "metadata": {},
   "outputs": [
    {
     "name": "stderr",
     "output_type": "stream",
     "text": [
      "/Users/albert/Applications/miniconda3/envs/intel/lib/python3.6/site-packages/ipykernel/__main__.py:34: RuntimeWarning: divide by zero encountered in ulj\n",
      "/Users/albert/Applications/miniconda3/envs/intel/lib/python3.6/site-packages/ipykernel/__main__.py:34: RuntimeWarning: invalid value encountered in ulj\n"
     ]
    },
    {
     "data": {
      "text/plain": [
       "-1.3431786584750047"
      ]
     },
     "execution_count": 9,
     "metadata": {},
     "output_type": "execute_result"
    }
   ],
   "source": [
    "upotential(cluster)"
   ]
  },
  {
   "cell_type": "code",
   "execution_count": null,
   "metadata": {
    "scrolled": true
   },
   "outputs": [],
   "source": [
    "%timeit upotential(cluster)"
   ]
  },
  {
   "cell_type": "markdown",
   "metadata": {},
   "source": [
    "## thanks, Intel!"
   ]
  },
  {
   "cell_type": "markdown",
   "metadata": {},
   "source": [
    "https://www.anaconda.com/blog/developer-blog/parallel-python-with-numba-and-parallelaccelerator/"
   ]
  },
  {
   "cell_type": "code",
   "execution_count": null,
   "metadata": {},
   "outputs": [],
   "source": [
    "import numba\n",
    "\n",
    "@numba.jit(nopython=True)\n",
    "def lj(r):\n",
    "    sr6 = (1./r)**6\n",
    "    pot = 4.*(sr6*sr6 - sr6)\n",
    "    return pot\n",
    "\n",
    "\n",
    "@numba.jit(nopython=True)\n",
    "def distance(atom1, atom2):\n",
    "    dx = atom2[0] - atom1[0]\n",
    "    dy = atom2[1] - atom1[1]\n",
    "    dz = atom2[2] - atom1[2]\n",
    "\n",
    "    r = np.sqrt(dx*dx + dy*dy + dz*dz)\n",
    "    return r\n",
    "\n",
    "\n",
    "@numba.jit(nopython=True, parallel=True)\n",
    "def potential(cluster):\n",
    "    energy = 0.0\n",
    "    for i in numba.prange(len(cluster)-1):\n",
    "        for j in range(i+1,len(cluster)):\n",
    "            r = distance(cluster[i],cluster[j])\n",
    "            e = lj(r)\n",
    "            energy += e\n",
    "    return energy"
   ]
  },
  {
   "cell_type": "code",
   "execution_count": null,
   "metadata": {},
   "outputs": [],
   "source": [
    "z = np.zeros((1,3))\n",
    "%time potential(z)"
   ]
  },
  {
   "cell_type": "code",
   "execution_count": null,
   "metadata": {
    "scrolled": true
   },
   "outputs": [],
   "source": [
    "%timeit potential(cluster)"
   ]
  },
  {
   "cell_type": "markdown",
   "metadata": {},
   "source": [
    "## bigger data structures"
   ]
  },
  {
   "cell_type": "code",
   "execution_count": null,
   "metadata": {},
   "outputs": [],
   "source": [
    "import xarray as xr"
   ]
  },
  {
   "cell_type": "code",
   "execution_count": null,
   "metadata": {},
   "outputs": [],
   "source": [
    "a = list('HCNO')\n",
    "labels = np.random.choice(list('HCNO'), size=cluster.shape[0])\n",
    "\n",
    "traj = np.stack([cluster, cluster+0.001, cluster-0.02])"
   ]
  },
  {
   "cell_type": "code",
   "execution_count": null,
   "metadata": {},
   "outputs": [],
   "source": [
    "positions = xr.DataArray(traj,\n",
    "                        dims=('time','atom','position'),\n",
    "                        coords={'atom':labels,\n",
    "                                'position':['x','y','z'],\n",
    "                                'time':range(traj.shape[0])})\n",
    "positions"
   ]
  },
  {
   "cell_type": "code",
   "execution_count": null,
   "metadata": {
    "scrolled": false
   },
   "outputs": [],
   "source": [
    "positions.sel(atom='C')"
   ]
  },
  {
   "cell_type": "code",
   "execution_count": null,
   "metadata": {},
   "outputs": [],
   "source": [
    "%timeit potential(positions.sel(time=0).values)"
   ]
  }
 ],
 "metadata": {
  "kernelspec": {
   "display_name": "Python [conda env:intel]",
   "language": "python",
   "name": "conda-env-intel-py"
  },
  "language_info": {
   "codemirror_mode": {
    "name": "ipython",
    "version": 3
   },
   "file_extension": ".py",
   "mimetype": "text/x-python",
   "name": "python",
   "nbconvert_exporter": "python",
   "pygments_lexer": "ipython3",
   "version": "3.6.3"
  }
 },
 "nbformat": 4,
 "nbformat_minor": 2
}
