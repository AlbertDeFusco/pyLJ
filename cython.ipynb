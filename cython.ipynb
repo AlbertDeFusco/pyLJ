{
 "cells": [
  {
   "cell_type": "markdown",
   "metadata": {},
   "source": [
    "## traditional"
   ]
  },
  {
   "cell_type": "code",
   "execution_count": 1,
   "metadata": {},
   "outputs": [],
   "source": [
    "import numpy as np\n",
    "\n",
    "def make_cluster(natoms, radius=20, seed=1981):\n",
    "    np.random.seed(seed)\n",
    "    arr = np.random.normal(0, radius, size=(natoms,3))-0.5\n",
    "    return arr"
   ]
  },
  {
   "cell_type": "code",
   "execution_count": 2,
   "metadata": {},
   "outputs": [],
   "source": [
    "class lj_pure(object):\n",
    "    \n",
    "    @classmethod\n",
    "    def lj(cls, r):\n",
    "        sr6 = (1./r)**6\n",
    "        pot = 4.*(sr6*sr6 - sr6)\n",
    "        return pot\n",
    "\n",
    "\n",
    "    @classmethod\n",
    "    def distance(cls, atom1, atom2):\n",
    "        dx = atom2[0] - atom1[0]\n",
    "        dy = atom2[1] - atom1[1]\n",
    "        dz = atom2[2] - atom1[2]\n",
    "\n",
    "        r = (dx*dx + dy*dy + dz*dz)**0.5\n",
    "        return r\n",
    "\n",
    "\n",
    "    @classmethod\n",
    "    def potential(cls, cluster):\n",
    "        energy = 0.0\n",
    "        for i in range(len(cluster)-1):\n",
    "            for j in range(i+1,len(cluster)):\n",
    "                r = cls.distance(cluster[i],cluster[j])\n",
    "                e = cls.lj(r)\n",
    "                energy += e\n",
    "        return energy"
   ]
  },
  {
   "cell_type": "code",
   "execution_count": 3,
   "metadata": {},
   "outputs": [],
   "source": [
    "import numpy as np\n",
    "class lj_numpy(object):\n",
    "    \n",
    "    @classmethod\n",
    "    def lj(cls, r):\n",
    "        sr6 = (1./r)**6\n",
    "        pot = 4.*(sr6*sr6 - sr6)\n",
    "        return pot\n",
    "    \n",
    "    \n",
    "    @classmethod\n",
    "    def distances(cls, cluster):\n",
    "        diff = cluster[:, np.newaxis, :] - cluster[np.newaxis, :, :]\n",
    "        mat = np.sqrt((diff*diff).sum(-1))\n",
    "        return mat\n",
    "\n",
    "    \n",
    "    @classmethod\n",
    "    def potential(cls, cluster):\n",
    "        d = cls.distances(cluster)\n",
    "        dtri = np.triu(d)\n",
    "        energy = cls.lj(dtri[dtri > 1e-4]).sum()\n",
    "        return energy"
   ]
  },
  {
   "cell_type": "code",
   "execution_count": 4,
   "metadata": {},
   "outputs": [],
   "source": [
    "cluster = make_cluster(int(2e3), radius=100)"
   ]
  },
  {
   "cell_type": "code",
   "execution_count": 5,
   "metadata": {},
   "outputs": [
    {
     "name": "stdout",
     "output_type": "stream",
     "text": [
      "4.44 s ± 81.3 ms per loop (mean ± std. dev. of 7 runs, 1 loop each)\n"
     ]
    }
   ],
   "source": [
    "%timeit lj_pure.potential(cluster)"
   ]
  },
  {
   "cell_type": "code",
   "execution_count": 6,
   "metadata": {},
   "outputs": [
    {
     "name": "stdout",
     "output_type": "stream",
     "text": [
      "297 ms ± 889 µs per loop (mean ± std. dev. of 7 runs, 1 loop each)\n"
     ]
    }
   ],
   "source": [
    "%timeit lj_numpy.potential(cluster)"
   ]
  },
  {
   "cell_type": "markdown",
   "metadata": {},
   "source": [
    "## cython"
   ]
  },
  {
   "cell_type": "code",
   "execution_count": 7,
   "metadata": {},
   "outputs": [
    {
     "name": "stdout",
     "output_type": "stream",
     "text": [
      "Overwriting tmp/setup.py\n"
     ]
    }
   ],
   "source": [
    "%%writefile tmp/setup.py\n",
    "from setuptools import setup, Extension\n",
    "from Cython.Build import cythonize\n",
    "import numpy\n",
    "\n",
    "setup(\n",
    "    name = \"lennard-jones library\",\n",
    "    ext_modules = cythonize([\n",
    "        Extension(\"lj\", ['tmp/lj.pyx'],\n",
    "                  extra_compile_args = [\"-Wno-unused-function\", '-Wno-cpp', '-O2', '-fopenmp'],\n",
    "                  extra_link_args = ['-fopenmp']\n",
    "                 )\n",
    "    ]),\n",
    "    include_dirs = [numpy.get_include()]\n",
    ")"
   ]
  },
  {
   "cell_type": "code",
   "execution_count": 13,
   "metadata": {},
   "outputs": [
    {
     "name": "stdout",
     "output_type": "stream",
     "text": [
      "Overwriting tmp/lj.pyx\n"
     ]
    }
   ],
   "source": [
    "%%writefile tmp/lj.pyx\n",
    "\n",
    "cimport cython\n",
    "cimport numpy as np\n",
    "import numpy as np\n",
    "ctypedef np.float_t DOUBLE\n",
    "from cython.parallel import prange\n",
    "\n",
    "@cython.boundscheck(False)\n",
    "def potential(np.ndarray[DOUBLE, ndim=2] cluster):\n",
    "    cdef DOUBLE energy = 0.0\n",
    "    cdef int n_atoms = cluster.shape[0]\n",
    "    cdef DOUBLE e, r, dx, dy, dz, sr6\n",
    "    cdef int i,j\n",
    "    cdef int ZERO = 0\n",
    "    cdef int ONE = 1\n",
    "    cdef int TWO = 2\n",
    "    for i in range(n_atoms-1):\n",
    "        for j in prange(i+1,n_atoms, nogil=True):\n",
    "            #r = distance(cluster[i],cluster[j])\n",
    "            #e = lj(r)\n",
    "            \n",
    "            dx = cluster[j, ZERO] - cluster[i, ZERO]\n",
    "            dy = cluster[j, ONE] - cluster[i, ONE]\n",
    "            dz = cluster[j, TWO] - cluster[i, TWO]\n",
    "            r = (dx*dx + dy*dy + dz*dz)**0.5\n",
    "            \n",
    "            sr6 = (1./r)**6\n",
    "            e = 4.*(sr6*sr6 - sr6)\n",
    "            \n",
    "            energy += e\n",
    "    return energy"
   ]
  },
  {
   "cell_type": "code",
   "execution_count": 14,
   "metadata": {},
   "outputs": [
    {
     "name": "stdout",
     "output_type": "stream",
     "text": [
      "Compiling tmp/lj.pyx because it changed.\n",
      "[1/1] Cythonizing tmp/lj.pyx\n",
      "running build_ext\n",
      "building 'lj' extension\n",
      "gcc-mp-7 -Wno-unused-result -Wsign-compare -Wunreachable-code -DNDEBUG -g -fwrapv -O3 -Wall -Wstrict-prototypes -I/Users/albert/Applications/miniconda3/envs/intel/include -arch x86_64 -I/Users/albert/Applications/miniconda3/envs/intel/include -arch x86_64 -I/Users/albert/Applications/miniconda3/envs/intel/lib/python3.6/site-packages/numpy/core/include -I/Users/albert/Applications/miniconda3/envs/intel/include/python3.6m -c tmp/lj.c -o build/temp.macosx-10.6-x86_64-3.6/tmp/lj.o -Wno-unused-function -Wno-cpp -O2 -fopenmp\n",
      "gcc-mp-7 -bundle -undefined dynamic_lookup -L/Users/albert/Applications/miniconda3/envs/intel/lib -L/Users/albert/Applications/miniconda3/envs/intel/lib -arch x86_64 build/temp.macosx-10.6-x86_64-3.6/tmp/lj.o -L/Users/albert/Applications/miniconda3/envs/intel/lib -o build/lib.macosx-10.6-x86_64-3.6/lj.cpython-36m-darwin.so -fopenmp\n",
      "copying build/lib.macosx-10.6-x86_64-3.6/lj.cpython-36m-darwin.so -> \n"
     ]
    }
   ],
   "source": [
    "import sys\n",
    "!CC=gcc-mp-7 {sys.executable} tmp/setup.py build_ext --inplace"
   ]
  },
  {
   "cell_type": "code",
   "execution_count": 16,
   "metadata": {},
   "outputs": [
    {
     "name": "stdout",
     "output_type": "stream",
     "text": [
      "208 ms ± 15.2 ms per loop (mean ± std. dev. of 7 runs, 10 loops each)\n"
     ]
    }
   ],
   "source": [
    "#import lj\n",
    "from importlib import reload\n",
    "lj = reload(lj)\n",
    "\n",
    "%timeit lj.potential(cluster)"
   ]
  },
  {
   "cell_type": "code",
   "execution_count": null,
   "metadata": {},
   "outputs": [],
   "source": [
    "potential(cluster)"
   ]
  }
 ],
 "metadata": {
  "kernelspec": {
   "display_name": "Python [conda env:intel]",
   "language": "python",
   "name": "conda-env-intel-py"
  },
  "language_info": {
   "codemirror_mode": {
    "name": "ipython",
    "version": 3
   },
   "file_extension": ".py",
   "mimetype": "text/x-python",
   "name": "python",
   "nbconvert_exporter": "python",
   "pygments_lexer": "ipython3",
   "version": "3.6.3"
  }
 },
 "nbformat": 4,
 "nbformat_minor": 2
}
